{
 "cells": [
  {
   "cell_type": "markdown",
   "metadata": {},
   "source": [
    "## Data Collection and Cleaning: \n",
    "\n",
    "For the dataset on cigarette advertising from 2018 to 2020, we got the raw data in form of an excel spreadsheet. We downloaded this as a csv file. We then renamed the columns, dropped empty rows, and changed the numbers to have no commas in them. We also converted the column of advertising spending to numeric values so it would be easier to do analysis on it. \n",
    "\n",
    "For the dataset on tobacco production from 2000 to 2019, we got the raw data in an excel spreadsheet and downloaded it as a csv file. To clean the data we renamed the columns, dropped empty rows, and got rid of the commas in the numbers. Additionally we converted the column of tobacco production to integers and then multiplied them all by 1000 because the data was orginally given in tobacco production (in 1000 pounds). \n",
    "\n",
    "For the dataset on cigarette advertising as a percent of sales from 2011 to 2015 again we got the raw data in an excel spreadsheet and downloaded it as a csv file. Similarly, we renamed the columns, dropped empty rows, and got rid of the column that was just \"in %\" for each row. \n",
    "\n",
    "For the dataset on tobacco consumption, we got the raw data in csv form. First the extraneous irrelevant columns (same value throughout, not information relevant to us, such as the column that said US for every value) and columns with extraneous unneeded information (giving all data per capita, however we needed to manipulate the original data rendering the per capita calculations useless). We then renamed the columns that were pertinent to our analysis. Because the data was given in inconsistent units (pounds, cigarettes, cigarette equivalents, and cigars), we converted all data to a common unit of pounds of tobacco, using the conversion equation given by the CDC. We then removed the Unit column because we had effectively removed its usefulness."
   ]
  },
  {
   "cell_type": "code",
   "execution_count": 1,
   "metadata": {},
   "outputs": [],
   "source": [
    "import pandas as pd"
   ]
  },
  {
   "cell_type": "code",
   "execution_count": 2,
   "metadata": {},
   "outputs": [
    {
     "name": "stdout",
     "output_type": "stream",
     "text": [
      "    Year  US Cigarettes Ad Spending (in millions)\n",
      "2   2018                                  1683.05\n",
      "3  2019*                                  2959.90\n",
      "4  2020*                                  4275.66\n"
     ]
    }
   ],
   "source": [
    "ads18 = pd.read_csv('ads2018to2020.csv')\n",
    "ads18.columns = ['Year', \"US Cigarettes Ad Spending (in millions)\"]\n",
    "ads18 = ads18.drop([0,1])\n",
    "ads18[\"US Cigarettes Ad Spending (in millions)\"]=ads18[\"US Cigarettes Ad Spending (in millions)\"].str.replace(',','')\n",
    "ads18[\"US Cigarettes Ad Spending (in millions)\"] = pd.to_numeric(ads18[\"US Cigarettes Ad Spending (in millions)\"])\n",
    "print(ads18)\n",
    "ads18.to_csv(r'cleanads18.csv')"
   ]
  },
  {
   "cell_type": "code",
   "execution_count": 3,
   "metadata": {},
   "outputs": [
    {
     "name": "stdout",
     "output_type": "stream",
     "text": [
      "    Year  Tobacco Production\n",
      "2   2000          1053264000\n",
      "3   2001           991293000\n",
      "4   2002           871122000\n",
      "5   2003           802560000\n",
      "6   2004           881875000\n",
      "7   2005           645015000\n",
      "8   2006           727897000\n",
      "9   2007           787653000\n",
      "10  2008           800504000\n",
      "11  2009           822581000\n",
      "12  2010           718190000\n",
      "13  2011           598252000\n",
      "14  2012           762709000\n",
      "15  2013           723579000\n",
      "16  2014           876415000\n",
      "17  2015           719171000\n",
      "18  2016           628720000\n",
      "19  2017           710161000\n",
      "20  2018           533241000\n",
      "21  2019           467956000\n"
     ]
    }
   ],
   "source": [
    "tproduction = pd.read_csv('tobaccoproduction.csv')\n",
    "tproduction.columns = ['Year', 'Tobacco Production']\n",
    "tproduction = tproduction.drop([0,1])\n",
    "tproduction[\"Tobacco Production\"] = tproduction[\"Tobacco Production\"].str.replace(',','')\n",
    "tproduction[\"Tobacco Production\"] = pd.to_numeric(tproduction[\"Tobacco Production\"])\n",
    "tproduction[\"Tobacco Production\"] = tproduction[\"Tobacco Production\"] * 1000\n",
    "print(tproduction)\n",
    "tproduction.to_csv(r'cleantproduction.csv')"
   ]
  },
  {
   "cell_type": "code",
   "execution_count": 4,
   "metadata": {},
   "outputs": [
    {
     "name": "stdout",
     "output_type": "stream",
     "text": [
      "    Year  Ad Spending as a Percent of Sales\n",
      "2   2011                                1.1\n",
      "3   2012                                0.5\n",
      "4   2013                                1.0\n",
      "5   2014                                0.7\n",
      "6  2015*                                0.7\n"
     ]
    }
   ],
   "source": [
    "ads11 = pd.read_csv('ads2011to2015.csv')\n",
    "ads11 = ads11.drop([0,1])\n",
    "ads11 = ads11.drop([\"Unnamed: 2\"], axis=1)\n",
    "ads11.columns = [\"Year\", \"Ad Spending as a Percent of Sales\"]\n",
    "print(ads11)\n",
    "ads11.to_csv(r'cleanads11.csv')"
   ]
  },
  {
   "cell_type": "code",
   "execution_count": 5,
   "metadata": {},
   "outputs": [
    {
     "name": "stdout",
     "output_type": "stream",
     "text": [
      "     Year             Combustible               Type  \\\n",
      "0    2000  Noncombustible Tobacco  Smokeless Tobacco   \n",
      "1    2000     Combustible Tobacco         Cigarettes   \n",
      "2    2000     Combustible Tobacco             Cigars   \n",
      "3    2000     Combustible Tobacco      Loose Tobacco   \n",
      "4    2000     Combustible Tobacco      Loose Tobacco   \n",
      "..    ...                     ...                ...   \n",
      "242  2018     Combustible Tobacco      Loose Tobacco   \n",
      "243  2018     Combustible Tobacco   All Combustibles   \n",
      "244  2018     Combustible Tobacco             Cigars   \n",
      "245  2018     Combustible Tobacco      Loose Tobacco   \n",
      "246  2018     Combustible Tobacco      Loose Tobacco   \n",
      "\n",
      "                       Subtype                   Unit      Domestic  \\\n",
      "0              Chewing Tobacco                 Pounds  4.550216e+07   \n",
      "1           Cigarette Removals             Cigarettes  8.597273e+08   \n",
      "2                 Total Cigars                 Cigars  2.280227e+07   \n",
      "3          Total Loose Tobacco  Cigarette Equivalents  1.684166e+07   \n",
      "4          Total Loose Tobacco                 Pounds  1.684166e+07   \n",
      "..                         ...                    ...           ...   \n",
      "242      Roll-Your-Own Tobacco  Cigarette Equivalents  1.950393e+06   \n",
      "243  Total Combustible Tobacco  Cigarette Equivalents  5.064804e+08   \n",
      "244               Large Cigars                 Cigars  2.038811e+07   \n",
      "245        Total Loose Tobacco                 Pounds  3.463959e+07   \n",
      "246               Pipe Tobacco  Cigarette Equivalents  3.268920e+07   \n",
      "\n",
      "          Imports         Total  \n",
      "0    9.196500e+04  4.559412e+07  \n",
      "1    2.502432e+07  8.847516e+08  \n",
      "2    2.227237e+06  2.502951e+07  \n",
      "3    1.427444e+06  1.826910e+07  \n",
      "4    1.427444e+06  1.826910e+07  \n",
      "..            ...           ...  \n",
      "242  1.439400e+05  2.094333e+06  \n",
      "243  4.026669e+07  5.467471e+08  \n",
      "244  3.149195e+07  5.188006e+07  \n",
      "245  7.387841e+06  4.202743e+07  \n",
      "246  7.243901e+06  3.993310e+07  \n",
      "\n",
      "[247 rows x 8 columns]\n"
     ]
    }
   ],
   "source": [
    "consum = pd.read_csv('tobaccoconsumption.csv')\n",
    "del consum['LocationAbbrev']\n",
    "del consum['LocationDesc']\n",
    "del consum['Population']\n",
    "del consum['Domestic Per Capita']\n",
    "del consum['Imports Per Capita']\n",
    "del consum['Total Per Capita']\n",
    "consum.columns = ['Year', 'Combustible', 'Type', 'Subtype', 'Unit', 'Domestic', 'Imports','Total']\n",
    "\n",
    "\n",
    "convertcigs = 0.00203125;\n",
    "convertcigars = 2*convertcigs;\n",
    "\n",
    "for i in range(0,len(consum)):\n",
    "    if(consum.loc[i]['Unit']=='Cigarette Equivalents' or consum.loc[i]['Unit']=='Cigarettes'):\n",
    "        consum['Domestic'] = consum['Domestic'].replace(consum.loc[i]['Domestic'], consum.loc[i]['Domestic']*convertcigs)\n",
    "        consum['Imports'] = consum['Imports'].replace(consum.loc[i]['Imports'], consum.loc[i]['Imports']*convertcigs)\n",
    "        consum['Total'] = consum['Total'].replace(consum.loc[i]['Total'], consum.loc[i]['Total']*convertcigs)\n",
    "    if(consum.loc[i]['Unit']=='Cigars'):\n",
    "        consum['Domestic'] = consum['Domestic'].replace(consum.loc[i]['Domestic'], consum.loc[i]['Domestic']*convertcigars)\n",
    "        consum['Imports'] = consum['Imports'].replace(consum.loc[i]['Imports'], consum.loc[i]['Imports']*convertcigars)\n",
    "        consum['Total'] = consum['Total'].replace(consum.loc[i]['Total'], consum.loc[i]['Total']*convertcigars)\n",
    "print(consum)\n",
    "consum.to_csv(r'cleanconsum.csv')"
   ]
  }
 ],
 "metadata": {
  "kernelspec": {
   "display_name": "Python 3",
   "language": "python",
   "name": "python3"
  },
  "language_info": {
   "codemirror_mode": {
    "name": "ipython",
    "version": 3
   },
   "file_extension": ".py",
   "mimetype": "text/x-python",
   "name": "python",
   "nbconvert_exporter": "python",
   "pygments_lexer": "ipython3",
   "version": "3.8.3"
  }
 },
 "nbformat": 4,
 "nbformat_minor": 4
}
