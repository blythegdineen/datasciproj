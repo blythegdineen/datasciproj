{
 "cells": [
  {
   "cell_type": "markdown",
   "metadata": {},
   "source": [
    "## Research Questions: \n",
    "- Does the amount of advertising for cigarettes have any effect on the production levels of tabacco?\n",
    "- How does consumption of tabacco related to tobacco production and/or cigarette advertising?\n",
    "- How does cigarette advertising relate to production and type of product being consumed?\n",
    "- How has the invention and popularization of e-cigarettes affected advertising, production, and consumption of tobacco? "
   ]
  },
  {
   "cell_type": "markdown",
   "metadata": {},
   "source": [
    "## Data Collection and Cleaning "
   ]
  },
  {
   "cell_type": "code",
   "execution_count": 2,
   "metadata": {},
   "outputs": [],
   "source": [
    "import pandas as pd"
   ]
  },
  {
   "cell_type": "code",
   "execution_count": 5,
   "metadata": {},
   "outputs": [
    {
     "name": "stdout",
     "output_type": "stream",
     "text": [
      "    Year US Cigarettes Ad Spend (in millions)\n",
      "2   2018                              1683.05\n",
      "3  2019*                               2959.9\n",
      "4  2020*                              4275.66\n"
     ]
    }
   ],
   "source": [
    "tads2018to2020 = pd.read_csv('ads2018to2020.csv')\n",
    "tads2018to2020.columns = ['Year', \"US Cigarettes Ad Spend (in millions)\"]\n",
    "tads2018to2020 = tads2018to2020.drop([0,1])\n",
    "tads2018to2020[\"US Cigarettes Ad Spend (in millions)\"]=tads2018to2020[\"US Cigarettes Ad Spend (in millions)\"].str.replace(',','')\n",
    "print(tads2018to2020)"
   ]
  },
  {
   "cell_type": "code",
   "execution_count": 7,
   "metadata": {},
   "outputs": [
    {
     "name": "stdout",
     "output_type": "stream",
     "text": [
      "    Year Tobacco Production (in 1000 pounds)\n",
      "2   2000                             1053264\n",
      "3   2001                              991293\n",
      "4   2002                              871122\n",
      "5   2003                              802560\n",
      "6   2004                              881875\n",
      "7   2005                              645015\n",
      "8   2006                              727897\n",
      "9   2007                              787653\n",
      "10  2008                              800504\n",
      "11  2009                              822581\n",
      "12  2010                              718190\n",
      "13  2011                              598252\n",
      "14  2012                              762709\n",
      "15  2013                              723579\n",
      "16  2014                              876415\n",
      "17  2015                              719171\n",
      "18  2016                              628720\n",
      "19  2017                              710161\n",
      "20  2018                              533241\n",
      "21  2019                              467956\n"
     ]
    }
   ],
   "source": [
    "tproduction = pd.read_csv('tobaccoproduction.csv')\n",
    "tproduction.columns = ['Year', 'Tobacco Production (in 1000 pounds)']\n",
    "tproduction = tproduction.drop([0,1])\n",
    "tproduction[\"Tobacco Production (in 1000 pounds)\"] = tproduction[\"Tobacco Production (in 1000 pounds)\"].str.replace(',','')\n",
    "print(tproduction)"
   ]
  },
  {
   "cell_type": "code",
   "execution_count": 8,
   "metadata": {},
   "outputs": [
    {
     "ename": "ValueError",
     "evalue": "Length mismatch: Expected axis has 3 elements, new values have 2 elements",
     "output_type": "error",
     "traceback": [
      "\u001b[0;31m---------------------------------------------------------------------------\u001b[0m",
      "\u001b[0;31mValueError\u001b[0m                                Traceback (most recent call last)",
      "\u001b[0;32m<ipython-input-8-68e3316d7548>\u001b[0m in \u001b[0;36m<module>\u001b[0;34m\u001b[0m\n\u001b[1;32m      1\u001b[0m \u001b[0mtads2011to2015\u001b[0m \u001b[0;34m=\u001b[0m \u001b[0mpd\u001b[0m\u001b[0;34m.\u001b[0m\u001b[0mread_csv\u001b[0m\u001b[0;34m(\u001b[0m\u001b[0;34m'ads2011to2015.csv'\u001b[0m\u001b[0;34m)\u001b[0m\u001b[0;34m\u001b[0m\u001b[0;34m\u001b[0m\u001b[0m\n\u001b[0;32m----> 2\u001b[0;31m \u001b[0mtads2011to2015\u001b[0m\u001b[0;34m.\u001b[0m\u001b[0mcolumns\u001b[0m \u001b[0;34m=\u001b[0m \u001b[0;34m[\u001b[0m\u001b[0;34m'Year'\u001b[0m\u001b[0;34m,\u001b[0m \u001b[0;34m'Ad spending as Percent of Sales'\u001b[0m\u001b[0;34m]\u001b[0m\u001b[0;34m\u001b[0m\u001b[0;34m\u001b[0m\u001b[0m\n\u001b[0m\u001b[1;32m      3\u001b[0m \u001b[0mtads2011to2015\u001b[0m \u001b[0;34m=\u001b[0m \u001b[0mtads2011to2015\u001b[0m\u001b[0;34m.\u001b[0m\u001b[0mdrop\u001b[0m\u001b[0;34m(\u001b[0m\u001b[0;34m[\u001b[0m\u001b[0;36m0\u001b[0m\u001b[0;34m,\u001b[0m\u001b[0;36m1\u001b[0m\u001b[0;34m]\u001b[0m\u001b[0;34m)\u001b[0m\u001b[0;34m\u001b[0m\u001b[0;34m\u001b[0m\u001b[0m\n\u001b[1;32m      4\u001b[0m \u001b[0mprint\u001b[0m\u001b[0;34m(\u001b[0m\u001b[0mtads2011to2015\u001b[0m\u001b[0;34m)\u001b[0m\u001b[0;34m\u001b[0m\u001b[0;34m\u001b[0m\u001b[0m\n",
      "\u001b[0;32m~/opt/anaconda3/lib/python3.8/site-packages/pandas/core/generic.py\u001b[0m in \u001b[0;36m__setattr__\u001b[0;34m(self, name, value)\u001b[0m\n\u001b[1;32m   5285\u001b[0m         \u001b[0;32mtry\u001b[0m\u001b[0;34m:\u001b[0m\u001b[0;34m\u001b[0m\u001b[0;34m\u001b[0m\u001b[0m\n\u001b[1;32m   5286\u001b[0m             \u001b[0mobject\u001b[0m\u001b[0;34m.\u001b[0m\u001b[0m__getattribute__\u001b[0m\u001b[0;34m(\u001b[0m\u001b[0mself\u001b[0m\u001b[0;34m,\u001b[0m \u001b[0mname\u001b[0m\u001b[0;34m)\u001b[0m\u001b[0;34m\u001b[0m\u001b[0;34m\u001b[0m\u001b[0m\n\u001b[0;32m-> 5287\u001b[0;31m             \u001b[0;32mreturn\u001b[0m \u001b[0mobject\u001b[0m\u001b[0;34m.\u001b[0m\u001b[0m__setattr__\u001b[0m\u001b[0;34m(\u001b[0m\u001b[0mself\u001b[0m\u001b[0;34m,\u001b[0m \u001b[0mname\u001b[0m\u001b[0;34m,\u001b[0m \u001b[0mvalue\u001b[0m\u001b[0;34m)\u001b[0m\u001b[0;34m\u001b[0m\u001b[0;34m\u001b[0m\u001b[0m\n\u001b[0m\u001b[1;32m   5288\u001b[0m         \u001b[0;32mexcept\u001b[0m \u001b[0mAttributeError\u001b[0m\u001b[0;34m:\u001b[0m\u001b[0;34m\u001b[0m\u001b[0;34m\u001b[0m\u001b[0m\n\u001b[1;32m   5289\u001b[0m             \u001b[0;32mpass\u001b[0m\u001b[0;34m\u001b[0m\u001b[0;34m\u001b[0m\u001b[0m\n",
      "\u001b[0;32mpandas/_libs/properties.pyx\u001b[0m in \u001b[0;36mpandas._libs.properties.AxisProperty.__set__\u001b[0;34m()\u001b[0m\n",
      "\u001b[0;32m~/opt/anaconda3/lib/python3.8/site-packages/pandas/core/generic.py\u001b[0m in \u001b[0;36m_set_axis\u001b[0;34m(self, axis, labels)\u001b[0m\n\u001b[1;32m    659\u001b[0m \u001b[0;34m\u001b[0m\u001b[0m\n\u001b[1;32m    660\u001b[0m     \u001b[0;32mdef\u001b[0m \u001b[0m_set_axis\u001b[0m\u001b[0;34m(\u001b[0m\u001b[0mself\u001b[0m\u001b[0;34m,\u001b[0m \u001b[0maxis\u001b[0m\u001b[0;34m,\u001b[0m \u001b[0mlabels\u001b[0m\u001b[0;34m)\u001b[0m \u001b[0;34m->\u001b[0m \u001b[0;32mNone\u001b[0m\u001b[0;34m:\u001b[0m\u001b[0;34m\u001b[0m\u001b[0;34m\u001b[0m\u001b[0m\n\u001b[0;32m--> 661\u001b[0;31m         \u001b[0mself\u001b[0m\u001b[0;34m.\u001b[0m\u001b[0m_data\u001b[0m\u001b[0;34m.\u001b[0m\u001b[0mset_axis\u001b[0m\u001b[0;34m(\u001b[0m\u001b[0maxis\u001b[0m\u001b[0;34m,\u001b[0m \u001b[0mlabels\u001b[0m\u001b[0;34m)\u001b[0m\u001b[0;34m\u001b[0m\u001b[0;34m\u001b[0m\u001b[0m\n\u001b[0m\u001b[1;32m    662\u001b[0m         \u001b[0mself\u001b[0m\u001b[0;34m.\u001b[0m\u001b[0m_clear_item_cache\u001b[0m\u001b[0;34m(\u001b[0m\u001b[0;34m)\u001b[0m\u001b[0;34m\u001b[0m\u001b[0;34m\u001b[0m\u001b[0m\n\u001b[1;32m    663\u001b[0m \u001b[0;34m\u001b[0m\u001b[0m\n",
      "\u001b[0;32m~/opt/anaconda3/lib/python3.8/site-packages/pandas/core/internals/managers.py\u001b[0m in \u001b[0;36mset_axis\u001b[0;34m(self, axis, new_labels)\u001b[0m\n\u001b[1;32m    175\u001b[0m \u001b[0;34m\u001b[0m\u001b[0m\n\u001b[1;32m    176\u001b[0m         \u001b[0;32mif\u001b[0m \u001b[0mnew_len\u001b[0m \u001b[0;34m!=\u001b[0m \u001b[0mold_len\u001b[0m\u001b[0;34m:\u001b[0m\u001b[0;34m\u001b[0m\u001b[0;34m\u001b[0m\u001b[0m\n\u001b[0;32m--> 177\u001b[0;31m             raise ValueError(\n\u001b[0m\u001b[1;32m    178\u001b[0m                 \u001b[0;34mf\"Length mismatch: Expected axis has {old_len} elements, new \"\u001b[0m\u001b[0;34m\u001b[0m\u001b[0;34m\u001b[0m\u001b[0m\n\u001b[1;32m    179\u001b[0m                 \u001b[0;34mf\"values have {new_len} elements\"\u001b[0m\u001b[0;34m\u001b[0m\u001b[0;34m\u001b[0m\u001b[0m\n",
      "\u001b[0;31mValueError\u001b[0m: Length mismatch: Expected axis has 3 elements, new values have 2 elements"
     ]
    }
   ],
   "source": [
    "ads11 = pd.read_csv('ads2011to2015.csv')\n",
    "ads11.columns = ['Year', 'Ad spending as Percent of Sales']\n",
    "ads11 = ads11.drop([0,1])\n",
    "print(ads11)"
   ]
  },
  {
   "cell_type": "code",
   "execution_count": 6,
   "metadata": {},
   "outputs": [
    {
     "name": "stdout",
     "output_type": "stream",
     "text": [
      "     Year LocationAbbrev LocationDesc  Population                   Topic  \\\n",
      "0    2000             US     National   209786736  Noncombustible Tobacco   \n",
      "1    2000             US     National   209786736     Combustible Tobacco   \n",
      "2    2000             US     National   209786736     Combustible Tobacco   \n",
      "3    2000             US     National   209786736     Combustible Tobacco   \n",
      "4    2000             US     National   209786736     Combustible Tobacco   \n",
      "..    ...            ...          ...         ...                     ...   \n",
      "242  2018             US     National   253768092     Combustible Tobacco   \n",
      "243  2018             US     National   253768092     Combustible Tobacco   \n",
      "244  2018             US     National   253768092     Combustible Tobacco   \n",
      "245  2018             US     National   253768092     Combustible Tobacco   \n",
      "246  2018             US     National   253768092     Combustible Tobacco   \n",
      "\n",
      "               Measure                 Submeasure        Data Value Unit  \\\n",
      "0    Smokeless Tobacco            Chewing Tobacco                 Pounds   \n",
      "1           Cigarettes         Cigarette Removals             Cigarettes   \n",
      "2               Cigars               Total Cigars                 Cigars   \n",
      "3        Loose Tobacco        Total Loose Tobacco  Cigarette Equivalents   \n",
      "4        Loose Tobacco        Total Loose Tobacco                 Pounds   \n",
      "..                 ...                        ...                    ...   \n",
      "242      Loose Tobacco      Roll-Your-Own Tobacco  Cigarette Equivalents   \n",
      "243   All Combustibles  Total Combustible Tobacco  Cigarette Equivalents   \n",
      "244             Cigars               Large Cigars                 Cigars   \n",
      "245      Loose Tobacco        Total Loose Tobacco                 Pounds   \n",
      "246      Loose Tobacco               Pipe Tobacco  Cigarette Equivalents   \n",
      "\n",
      "         Domestic      Imports         Total  Domestic Per Capita  \\\n",
      "0        45502156        91965      45594121                0.217   \n",
      "1    423250355675  12319663000  435570018675             2018.000   \n",
      "2      5612867329    548243000    6161110329               27.000   \n",
      "3      8291276800    702741662    8994018462               40.000   \n",
      "4        16841656      1427444      18269100                0.000   \n",
      "..            ...          ...           ...                  ...   \n",
      "242     960193477     70862769    1031056246                4.000   \n",
      "243  249344183300  19823602569  269167785869              983.000   \n",
      "244    5018612678   7751863615   12770476293               20.000   \n",
      "245      34639590      7387841      42027431                0.000   \n",
      "246   16093143138   3566228185   19659371323               63.000   \n",
      "\n",
      "     Imports Per Capita  Total Per Capita  \n",
      "0                   0.0             0.217  \n",
      "1                  59.0          2076.000  \n",
      "2                   3.0            29.000  \n",
      "3                   3.0            43.000  \n",
      "4                   0.0             0.000  \n",
      "..                  ...               ...  \n",
      "242                 0.0             4.000  \n",
      "243                78.0          1061.000  \n",
      "244                31.0            50.000  \n",
      "245                 0.0             0.000  \n",
      "246                14.0            77.000  \n",
      "\n",
      "[247 rows x 14 columns]\n"
     ]
    }
   ],
   "source": [
    "tconsumption = pd.read_csv('tobaccoconsumption.csv')\n",
    "print(tconsumption)"
   ]
  },
  {
   "cell_type": "markdown",
   "metadata": {},
   "source": [
    "## Data Description: \n",
    "We are using four different datasets.\n",
    "\n",
    "The first is \"Advertising spending as percent of sales in the cigarettes industry in the United States from 2011 to 2015\". The observations(rows) are the years 2011 to 2015 with the attribute (column) being the amount spent on advertising as a percent of the sales in the cigarette industry. This data comes from the sources Schonfeld & Associates, a company that develops business information products. It is part of a larger report they did on \"Advertising Ratios and Budgets\", an annual report that covers over 2,400 companies and 320 industries advertising. We retrieved this data from the Statista website(https://www.statista.com/statistics/470970/ad-spend-to-sales-cigarettes-usa/). No people were involved in the survey. The numbers come from data on government filings and published financial reports. Single industry values, like the cigarette industry, are calculated using only the companies that participate, which varies from year to year. \n",
    "\n",
    "The second dataset we are using \"Advertising spending in the cigarettes industry in the United States from 2018 to 2020\". The observations(rows) are the yers 2018 to 2020 and the atrribute(column) is the amount spent in advertising in the cigarette industry in millions of dollars. This data originally also comes from Schonfeld & Associates in their \"Advertising Ratios and Budgets 2019\" report. We got the data from the Statista website at(https://www.statista.com/statistics/470438/cigarettes-industry-ad-spend-usa/). Since it comes from the same report as the previos dataset, everything is the same. "
   ]
  },
  {
   "cell_type": "markdown",
   "metadata": {},
   "source": [
    "## Data Limitations:\n",
    "\n",
    "For the data on cigarette advertising from 2011 to 2015 there are a few important limitations to be noted. First off, the data for 2015 is a projected value. The survey was form 2011 to 2014, so the 2015 data point is just a forecast. Secondly, the data only includes companies that participated in the survey. This creates a potential for a lack of trust in this data. We don't know how Schonfeld & Associates conducted the survery or how they got companies to participate. It's possible they were only looking at a particular set of companies or that the companies that did agree do not represent the entire cigarette industry. It mentions that the companies that participate varies from year to year, so there could be reasons for any trend that have to do with what companies participated. This also makes the 2015 data point extra unreliable because they didn't knwo at the time which companies were going to participate in 2015. \n",
    "\n",
    "Because the data on cigarette advertising from 2018 to 2020 comes from the same Schonfeld & Associates report, it has all of the same limitations. In this case, 2019 and 2020 are predicted. Since there are only three datapoints, having two of them be forecast values and not actual values, definitely puts an extra limitation on what we can really use this dataset for. As explained earlier, the companies differ year to year, so any trend we see in this data may not be completely reliable. "
   ]
  }
 ],
 "metadata": {
  "kernelspec": {
   "display_name": "Python 3",
   "language": "python",
   "name": "python3"
  },
  "language_info": {
   "codemirror_mode": {
    "name": "ipython",
    "version": 3
   },
   "file_extension": ".py",
   "mimetype": "text/x-python",
   "name": "python",
   "nbconvert_exporter": "python",
   "pygments_lexer": "ipython3",
   "version": "3.8.3"
  }
 },
 "nbformat": 4,
 "nbformat_minor": 4
}
