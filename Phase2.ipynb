{
 "cells": [
  {
   "cell_type": "markdown",
   "metadata": {},
   "source": [
    "## Research Questions: \n",
    "- Does the amount of advertising for cigarettes have any effect on the production levels of tabacco?\n",
    "- How does consumption of tabacco related to tobacco production and/or cigarette advertising?\n",
    "- How does cigarette advertising relate to production and type of product being consumed?\n",
    "- How has the invention and popularization of e-cigarettes affected advertising, production, and consumption of tobacco? "
   ]
  },
  {
   "cell_type": "markdown",
   "metadata": {},
   "source": [
    "## Data Collection and Cleaning \n",
    "\n",
    "For the dataset on cigarette advertising from 2018 to 2020, we got the raw data in form of an excel spreadsheet. We downloaded this as a csv file. We then renamed the columns, dropped empty rows, and changed the numbers to have no commas in them. We also converted the column of advertising spending to numeric values so it would be easier to do analysis on it. \n",
    "\n",
    "For the dataset on tobacco production from 2000 to 2019, we got the raw data in an excel spreadsheet and downloaded it as a csv file. To clean the data we renamed the columns, dropped empty rows, and got rid of the commas in the numbers. Additionally we converted the column of tobacco production to integers and then multiplied them all by 1000 because the data was orginally given in tobacco production (in 1000 pounds). \n",
    "\n",
    "For the dataset on cigarette advertising as a percent of sales from 2011 to 2015 again we got the raw data in an excel spreadsheet and downloaded it as a csv file. Similarly, we renamed the columns, dropped empty rows, and got rid of the column that was just \"in %\" for each row. \n"
   ]
  },
  {
   "cell_type": "code",
   "execution_count": 12,
   "metadata": {},
   "outputs": [],
   "source": [
    "import pandas as pd\n",
    "import matplotlib.pyplot as plt"
   ]
  },
  {
   "cell_type": "code",
   "execution_count": 51,
   "metadata": {},
   "outputs": [
    {
     "name": "stdout",
     "output_type": "stream",
     "text": [
      "    Year  US Cigarettes Ad Spending (in millions)\n",
      "2   2018                                  1683.05\n",
      "3  2019*                                  2959.90\n",
      "4  2020*                                  4275.66\n"
     ]
    }
   ],
   "source": [
    "ads18 = pd.read_csv('ads2018to2020.csv')\n",
    "ads18.columns = ['Year', \"US Cigarettes Ad Spending (in millions)\"]\n",
    "ads18 = ads18.drop([0,1])\n",
    "ads18[\"US Cigarettes Ad Spending (in millions)\"]=ads18[\"US Cigarettes Ad Spending (in millions)\"].str.replace(',','')\n",
    "ads18[\"US Cigarettes Ad Spending (in millions)\"] = pd.to_numeric(ads18[\"US Cigarettes Ad Spending (in millions)\"])\n",
    "print(ads18)"
   ]
  },
  {
   "cell_type": "code",
   "execution_count": 31,
   "metadata": {},
   "outputs": [
    {
     "name": "stdout",
     "output_type": "stream",
     "text": [
      "    Year  Tobacco Production\n",
      "2   2000          1053264000\n",
      "3   2001           991293000\n",
      "4   2002           871122000\n",
      "5   2003           802560000\n",
      "6   2004           881875000\n",
      "7   2005           645015000\n",
      "8   2006           727897000\n",
      "9   2007           787653000\n",
      "10  2008           800504000\n",
      "11  2009           822581000\n",
      "12  2010           718190000\n",
      "13  2011           598252000\n",
      "14  2012           762709000\n",
      "15  2013           723579000\n",
      "16  2014           876415000\n",
      "17  2015           719171000\n",
      "18  2016           628720000\n",
      "19  2017           710161000\n",
      "20  2018           533241000\n",
      "21  2019           467956000\n"
     ]
    }
   ],
   "source": [
    "tproduction = pd.read_csv('tobaccoproduction.csv')\n",
    "tproduction.columns = ['Year', 'Tobacco Production']\n",
    "tproduction = tproduction.drop([0,1])\n",
    "tproduction[\"Tobacco Production\"] = tproduction[\"Tobacco Production\"].str.replace(',','')\n",
    "tproduction[\"Tobacco Production\"] = pd.to_numeric(tproduction[\"Tobacco Production\"])\n",
    "tproduction[\"Tobacco Production\"] = tproduction[\"Tobacco Production\"] * 1000\n",
    "print(tproduction)"
   ]
  },
  {
   "cell_type": "code",
   "execution_count": 11,
   "metadata": {},
   "outputs": [
    {
     "name": "stdout",
     "output_type": "stream",
     "text": [
      "    Year  Ad Spending as a Percent of Sales\n",
      "2   2011                                1.1\n",
      "3   2012                                0.5\n",
      "4   2013                                1.0\n",
      "5   2014                                0.7\n",
      "6  2015*                                0.7\n"
     ]
    }
   ],
   "source": [
    "ads11 = pd.read_csv('ads2011to2015.csv')\n",
    "ads11 = ads11.drop([0,1])\n",
    "ads11 = ads11.drop([\"Unnamed: 2\"], axis=1)\n",
    "ads11.columns = [\"Year\", \"Ad Spending as a Percent of Sales\"]\n",
    "print(ads11)"
   ]
  },
  {
   "cell_type": "code",
   "execution_count": 6,
   "metadata": {},
   "outputs": [
    {
     "name": "stdout",
     "output_type": "stream",
     "text": [
      "     Year LocationAbbrev LocationDesc  Population                   Topic  \\\n",
      "0    2000             US     National   209786736  Noncombustible Tobacco   \n",
      "1    2000             US     National   209786736     Combustible Tobacco   \n",
      "2    2000             US     National   209786736     Combustible Tobacco   \n",
      "3    2000             US     National   209786736     Combustible Tobacco   \n",
      "4    2000             US     National   209786736     Combustible Tobacco   \n",
      "..    ...            ...          ...         ...                     ...   \n",
      "242  2018             US     National   253768092     Combustible Tobacco   \n",
      "243  2018             US     National   253768092     Combustible Tobacco   \n",
      "244  2018             US     National   253768092     Combustible Tobacco   \n",
      "245  2018             US     National   253768092     Combustible Tobacco   \n",
      "246  2018             US     National   253768092     Combustible Tobacco   \n",
      "\n",
      "               Measure                 Submeasure        Data Value Unit  \\\n",
      "0    Smokeless Tobacco            Chewing Tobacco                 Pounds   \n",
      "1           Cigarettes         Cigarette Removals             Cigarettes   \n",
      "2               Cigars               Total Cigars                 Cigars   \n",
      "3        Loose Tobacco        Total Loose Tobacco  Cigarette Equivalents   \n",
      "4        Loose Tobacco        Total Loose Tobacco                 Pounds   \n",
      "..                 ...                        ...                    ...   \n",
      "242      Loose Tobacco      Roll-Your-Own Tobacco  Cigarette Equivalents   \n",
      "243   All Combustibles  Total Combustible Tobacco  Cigarette Equivalents   \n",
      "244             Cigars               Large Cigars                 Cigars   \n",
      "245      Loose Tobacco        Total Loose Tobacco                 Pounds   \n",
      "246      Loose Tobacco               Pipe Tobacco  Cigarette Equivalents   \n",
      "\n",
      "         Domestic      Imports         Total  Domestic Per Capita  \\\n",
      "0        45502156        91965      45594121                0.217   \n",
      "1    423250355675  12319663000  435570018675             2018.000   \n",
      "2      5612867329    548243000    6161110329               27.000   \n",
      "3      8291276800    702741662    8994018462               40.000   \n",
      "4        16841656      1427444      18269100                0.000   \n",
      "..            ...          ...           ...                  ...   \n",
      "242     960193477     70862769    1031056246                4.000   \n",
      "243  249344183300  19823602569  269167785869              983.000   \n",
      "244    5018612678   7751863615   12770476293               20.000   \n",
      "245      34639590      7387841      42027431                0.000   \n",
      "246   16093143138   3566228185   19659371323               63.000   \n",
      "\n",
      "     Imports Per Capita  Total Per Capita  \n",
      "0                   0.0             0.217  \n",
      "1                  59.0          2076.000  \n",
      "2                   3.0            29.000  \n",
      "3                   3.0            43.000  \n",
      "4                   0.0             0.000  \n",
      "..                  ...               ...  \n",
      "242                 0.0             4.000  \n",
      "243                78.0          1061.000  \n",
      "244                31.0            50.000  \n",
      "245                 0.0             0.000  \n",
      "246                14.0            77.000  \n",
      "\n",
      "[247 rows x 14 columns]\n"
     ]
    }
   ],
   "source": [
    "tconsumption = pd.read_csv('tobaccoconsumption.csv')\n",
    "print(tconsumption)"
   ]
  },
  {
   "cell_type": "markdown",
   "metadata": {},
   "source": [
    "## Data Description: \n",
    "We are using four different datasets.\n",
    "\n",
    "The first is \"Advertising spending as percent of sales in the cigarettes industry in the United States from 2011 to 2015\". The observations(rows) are the years 2011 to 2015 with the attribute (column) being the amount spent on advertising as a percent of the sales in the cigarette industry. This data comes from the sources Schonfeld & Associates, a company that develops business information products. It is part of a larger report they did on \"Advertising Ratios and Budgets\", an annual report that covers over 2,400 companies and 320 industries advertising. We retrieved this data from the Statista website(https://www.statista.com/statistics/470970/ad-spend-to-sales-cigarettes-usa/). No people were involved in the survey. The numbers come from data on government filings and published financial reports. Single industry values, like the cigarette industry, are calculated using only the companies that participate, which varies from year to year. \n",
    "\n",
    "The second dataset we are using \"Advertising spending in the cigarettes industry in the United States from 2018 to 2020\". The observations(rows) are the yers 2018 to 2020 and the atrribute(column) is the amount spent in advertising in the cigarette industry in millions of dollars. This data originally also comes from Schonfeld & Associates in their \"Advertising Ratios and Budgets 2019\" report. We got the data from the Statista website at(https://www.statista.com/statistics/470438/cigarettes-industry-ad-spend-usa/). Since it comes from the same report as the previos dataset, everything is the same. "
   ]
  },
  {
   "cell_type": "markdown",
   "metadata": {},
   "source": [
    "## Data Limitations:\n",
    "\n",
    "For the data on cigarette advertising from 2011 to 2015 there are a few important limitations to be noted. First off, the data for 2015 is a projected value. The survey was form 2011 to 2014, so the 2015 data point is just a forecast. Secondly, the data only includes companies that participated in the survey. This creates a potential for a lack of trust in this data. We don't know how Schonfeld & Associates conducted the survery or how they got companies to participate. It's possible they were only looking at a particular set of companies or that the companies that did agree do not represent the entire cigarette industry. It mentions that the companies that participate varies from year to year, so there could be reasons for any trend that have to do with what companies participated. This also makes the 2015 data point extra unreliable because they didn't knwo at the time which companies were going to participate in 2015. \n",
    "\n",
    "Because the data on cigarette advertising from 2018 to 2020 comes from the same Schonfeld & Associates report, it has all of the same limitations. In this case, 2019 and 2020 are predicted. Since there are only three datapoints, having two of them be forecast values and not actual values, definitely puts an extra limitation on what we can really use this dataset for. As explained earlier, the companies differ year to year, so any trend we see in this data may not be completely reliable. "
   ]
  },
  {
   "cell_type": "markdown",
   "metadata": {},
   "source": [
    "## Exploratory Data Analysis"
   ]
  },
  {
   "cell_type": "code",
   "execution_count": 78,
   "metadata": {},
   "outputs": [
    {
     "name": "stdout",
     "output_type": "stream",
     "text": [
      "The mean tobacco production from 2000 to 2019 is 756107900 pounds\n",
      "The median tobacco production from 2000 to 2019 is 745303000 pounds \n",
      "The max tobacco production from 2000 to 2019 is 1053264000 pounds\n",
      "The max occured in 2000\n",
      "The min tobacco production from 2000 to 2019 is 467956000 pounds\n",
      "The max occured in 2019\n"
     ]
    }
   ],
   "source": [
    "mean = tproduction['Tobacco Production'].mean()\n",
    "median = tproduction['Tobacco Production'].median()\n",
    "max = tproduction['Tobacco Production'].max()\n",
    "index = tproduction[tproduction['Tobacco Production']==max].index.values[0]\n",
    "maxyear = tproduction.loc[index,'Year']\n",
    "min = tproduction['Tobacco Production'].min()\n",
    "index2 = tproduction[tproduction['Tobacco Production']==min].index.values[0]\n",
    "minyear = tproduction.loc[index2,'Year']\n",
    "print(\"The mean tobacco production from 2000 to 2019 is {:.0f} pounds\".format(mean))\n",
    "print(\"The median tobacco production from 2000 to 2019 is {:.0f} pounds \".format(median))\n",
    "print(\"The max tobacco production from 2000 to 2019 is {:.0f} pounds\".format(max))\n",
    "print(\"The max occured in \" + maxyear)\n",
    "print(\"The min tobacco production from 2000 to 2019 is {:.0f} pounds\".format(min))\n",
    "print(\"The max occured in \" + minyear)"
   ]
  },
  {
   "cell_type": "code",
   "execution_count": 79,
   "metadata": {},
   "outputs": [
    {
     "name": "stdout",
     "output_type": "stream",
     "text": [
      "The mean spent on cigarette advertisting from 2018 to 2020 is 2973 millions of dollars\n",
      "The median spent on cigarette advertisting from 2018 to 2020 is 2960 millions of dollars\n",
      "The max spent on cigarette advertisting from 2018 to 2020 is 4276 millions of dollars\n",
      "The max occured in 2020*\n",
      "The min spent on cigarette advertisting from 2018 to 2020 is 1683 millions of dollars\n",
      "The max occured in 2018\n"
     ]
    }
   ],
   "source": [
    "mean = ads18[\"US Cigarettes Ad Spending (in millions)\"].mean()\n",
    "median = ads18[\"US Cigarettes Ad Spending (in millions)\"].median()\n",
    "max = ads18[\"US Cigarettes Ad Spending (in millions)\"].max()\n",
    "index = ads18[ads18[\"US Cigarettes Ad Spending (in millions)\"]==max].index.values[0]\n",
    "maxyear = ads18.loc[index,'Year']\n",
    "min = ads18[\"US Cigarettes Ad Spending (in millions)\"].min()\n",
    "index2 = ads18[ads18[\"US Cigarettes Ad Spending (in millions)\"]==min].index.values[0]\n",
    "minyear = ads18.loc[index2,'Year']\n",
    "print(\"The mean spent on cigarette advertisting from 2018 to 2020 is {:.0f} millions of dollars\".format(mean))\n",
    "print(\"The median spent on cigarette advertisting from 2018 to 2020 is {:.0f} millions of dollars\".format(median))\n",
    "print(\"The max spent on cigarette advertisting from 2018 to 2020 is {:.0f} millions of dollars\".format(max))\n",
    "print(\"The max occured in \" + maxyear)\n",
    "print(\"The min spent on cigarette advertisting from 2018 to 2020 is {:.0f} millions of dollars\".format(min))\n",
    "print(\"The max occured in \" + minyear)"
   ]
  },
  {
   "cell_type": "code",
   "execution_count": 84,
   "metadata": {},
   "outputs": [
    {
     "name": "stdout",
     "output_type": "stream",
     "text": [
      "The mean percent of cigarette advertisting to sales from 2011 to 2019 is 0.80%\n",
      "The median percent of cigarette advertisting to sales from 2011 to 2010 is 0.70%\n",
      "The max percent of cigarette advertisting to sales from 2011 to 2019 is 1.10%\n",
      "The max occured in 2011\n",
      "The min percent of cigarette advertisting to sales from 2011 to 2019 is 0.50%\n",
      "The max occured in 2012\n"
     ]
    }
   ],
   "source": [
    "mean = ads11[\"Ad Spending as a Percent of Sales\"].mean()\n",
    "median = ads11[\"Ad Spending as a Percent of Sales\"].median()\n",
    "max = ads11[\"Ad Spending as a Percent of Sales\"].max()\n",
    "index = ads11[ads11[\"Ad Spending as a Percent of Sales\"]==max].index.values[0]\n",
    "maxyear = ads11.loc[index,'Year']\n",
    "min = ads11[\"Ad Spending as a Percent of Sales\"].min()\n",
    "index2 = ads11[ads11[\"Ad Spending as a Percent of Sales\"]==min].index.values[0]\n",
    "minyear = ads11.loc[index2,'Year']\n",
    "print(\"The mean percent of cigarette advertisting to sales from 2011 to 2019 is {:.2f}%\".format(mean))\n",
    "print(\"The median percent of cigarette advertisting to sales from 2011 to 2010 is {:.2f}%\".format(median))\n",
    "print(\"The max percent of cigarette advertisting to sales from 2011 to 2019 is {:.2f}%\".format(max))\n",
    "print(\"The max occured in \" + maxyear)\n",
    "print(\"The min percent of cigarette advertisting to sales from 2011 to 2019 is {:.2f}%\".format(min))\n",
    "print(\"The max occured in \" + minyear)"
   ]
  },
  {
   "cell_type": "code",
   "execution_count": 61,
   "metadata": {},
   "outputs": [
    {
     "data": {
      "image/png": "[encoded data removed]",
      "text/plain": [
       "<Figure size 432x288 with 1 Axes>"
      ]
     },
     "metadata": {
      "needs_background": "light"
     },
     "output_type": "display_data"
    }
   ],
   "source": [
    "plt.scatter(tproduction[\"Year\"], tproduction[\"Tobacco Production\"])\n",
    "plt.xlabel('Year')\n",
    "plt.ylabel('Tobacco Production')\n",
    "plt.title('US Tobacco Production per Year')\n",
    "plt.show()"
   ]
  },
  {
   "cell_type": "code",
   "execution_count": 85,
   "metadata": {},
   "outputs": [
    {
     "data": {
      "image/png": "[encoded data removed]",
      "text/plain": [
       "<Figure size 432x288 with 1 Axes>"
      ]
     },
     "metadata": {
      "needs_background": "light"
     },
     "output_type": "display_data"
    }
   ],
   "source": [
    "plt.scatter(ads11[\"Year\"], ads11[\"Ad Spending as a Percent of Sales\"])\n",
    "plt.xlabel('Year')\n",
    "plt.ylabel('US Cigarette Advertising Spending as a Percent of Sales')\n",
    "plt.title('Cigarette Ad Spending as a Percent of Sales per Year')\n",
    "plt.show()"
   ]
  },
  {
   "cell_type": "code",
   "execution_count": 86,
   "metadata": {},
   "outputs": [
    {
     "data": {
      "image/png": "[encoded data removed]",
      "text/plain": [
       "<Figure size 432x288 with 1 Axes>"
      ]
     },
     "metadata": {
      "needs_background": "light"
     },
     "output_type": "display_data"
    }
   ],
   "source": [
    "plt.scatter(ads18[\"Year\"], ads18[\"US Cigarettes Ad Spending (in millions)\"])\n",
    "plt.xlabel('Year')\n",
    "plt.ylabel('US Cigarette Advertising Spending in Millions')\n",
    "plt.title('Cigarette Advertising Spending per Year')\n",
    "plt.show()"
   ]
  },
  {
   "cell_type": "code",
   "execution_count": 90,
   "metadata": {},
   "outputs": [
    {
     "data": {
      "image/png": "[encoded data removed]",
      "text/plain": [
       "<Figure size 432x288 with 1 Axes>"
      ]
     },
     "metadata": {
      "needs_background": "light"
     },
     "output_type": "display_data"
    }
   ],
   "source": [
    "early = tproduction[11:16]\n",
    "plt.scatter(early['Tobacco Production'], ads11[\"Ad Spending as a Percent of Sales\"])\n",
    "plt.xlabel('US Tobaccao Production')\n",
    "plt.ylabel(\"US Ad Spending as a Percent of Sales\")\n",
    "plt.title(\"US Tobacco Production vs US Cigareete Ad Spending from Years 2011-2015\")\n",
    "plt.show()"
   ]
  },
  {
   "cell_type": "code",
   "execution_count": 87,
   "metadata": {},
   "outputs": [
    {
     "data": {
      "image/png": "[encoded data removed]",
      "text/plain": [
       "<Figure size 432x288 with 1 Axes>"
      ]
     },
     "metadata": {
      "needs_background": "light"
     },
     "output_type": "display_data"
    }
   ],
   "source": [
    "early = tproduction[18:20]\n",
    "plt.scatter(early['Tobacco Production'], ads18[\"US Cigarettes Ad Spending (in millions)\"][0:2])\n",
    "plt.xlabel('US Tobaccao Production')\n",
    "plt.ylabel(\"US Cigarette Ad Spending (in millions)\")\n",
    "plt.title(\"US Tobacco Production vs US Ad Spending from Years 2018-2019\")\n",
    "plt.show()"
   ]
  }
 ],
 "metadata": {
  "kernelspec": {
   "display_name": "Python 3",
   "language": "python",
   "name": "python3"
  },
  "language_info": {
   "codemirror_mode": {
    "name": "ipython",
    "version": 3
   },
   "file_extension": ".py",
   "mimetype": "text/x-python",
   "name": "python",
   "nbconvert_exporter": "python",
   "pygments_lexer": "ipython3",
   "version": "3.8.3"
  }
 },
 "nbformat": 4,
 "nbformat_minor": 4
}
